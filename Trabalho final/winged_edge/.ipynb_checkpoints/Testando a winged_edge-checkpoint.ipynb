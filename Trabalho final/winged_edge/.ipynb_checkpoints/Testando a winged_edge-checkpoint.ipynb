{
 "cells": [
  {
   "cell_type": "code",
   "execution_count": 4,
   "metadata": {},
   "outputs": [
    {
     "data": {
      "application/javascript": [
       "\n",
       "// Ugly hack - see HoloViews #2574 for more information\n",
       "if (!(document.getElementById('2072')) && !(document.getElementById('_anim_imgNone'))) {\n",
       "  console.log(\"Creating DOM nodes dynamically for assumed nbconvert export. To generate clean HTML output set HV_DOC_HTML as an environment variable.\")\n",
       "  var htmlObject = document.createElement('div');\n",
       "  htmlObject.innerHTML = `<div id='2072' style='display: table; margin: 0 auto;'>\n",
       "\n",
       "\n",
       "\n",
       "\n",
       "\n",
       "  <div class=\"bk-root\" id=\"a8bd42fa-5021-453f-af64-f58c05e84339\" data-root-id=\"2072\"></div>\n",
       "</div>`;\n",
       "  var scriptTags = document.getElementsByTagName('script');\n",
       "  var parentTag = scriptTags[scriptTags.length-1].parentNode;\n",
       "  if (parentTag.attributes.length && (parentTag.attributes[0].name == 'data-shell-mode')) {\n",
       "    alert('Displaying PyViz objects in JupyterLab requires the jupyterlab_pyviz extension to be installed, install it with:\\n\\n\\tjupyter labextension install @pyviz/jupyterlab_pyviz');\n",
       "  } else {\n",
       "    parentTag.append(htmlObject)\n",
       "  }\n",
       "}\n",
       "(function(root) {\n",
       "  function embed_document(root) {\n",
       "    \n",
       "  var docs_json = {\"6c40c8cb-f83f-4ba9-8e0b-f082a2e2289b\":{\"roots\":{\"references\":[{\"attributes\":{\"below\":[{\"id\":\"2080\",\"type\":\"LinearAxis\"}],\"left\":[{\"id\":\"2085\",\"type\":\"LinearAxis\"}],\"min_border_bottom\":10,\"min_border_left\":10,\"min_border_right\":10,\"min_border_top\":10,\"plot_height\":300,\"plot_width\":300,\"renderers\":[{\"id\":\"2080\",\"type\":\"LinearAxis\"},{\"id\":\"2084\",\"type\":\"Grid\"},{\"id\":\"2085\",\"type\":\"LinearAxis\"},{\"id\":\"2089\",\"type\":\"Grid\"},{\"id\":\"2098\",\"type\":\"BoxAnnotation\"},{\"id\":\"2113\",\"type\":\"GlyphRenderer\"},{\"id\":\"2131\",\"type\":\"Legend\"},{\"id\":\"2121\",\"type\":\"GlyphRenderer\"},{\"id\":\"2139\",\"type\":\"GlyphRenderer\"}],\"title\":{\"id\":\"2071\",\"type\":\"Title\"},\"toolbar\":{\"id\":\"2095\",\"type\":\"Toolbar\"},\"x_range\":{\"id\":\"2069\",\"type\":\"Range1d\"},\"x_scale\":{\"id\":\"2076\",\"type\":\"LinearScale\"},\"y_range\":{\"id\":\"2070\",\"type\":\"Range1d\"},\"y_scale\":{\"id\":\"2078\",\"type\":\"LinearScale\"}},\"id\":\"2072\",\"subtype\":\"Figure\",\"type\":\"Plot\"},{\"attributes\":{\"callback\":null,\"data\":{\"x\":[1,1,0,1],\"y\":[0,1,1,0]},\"selected\":{\"id\":\"2134\",\"type\":\"Selection\"},\"selection_policy\":{\"id\":\"2161\",\"type\":\"UnionRenderers\"}},\"id\":\"2133\",\"type\":\"ColumnDataSource\"},{\"attributes\":{\"source\":{\"id\":\"2133\",\"type\":\"ColumnDataSource\"}},\"id\":\"2140\",\"type\":\"CDSView\"},{\"attributes\":{\"bottom_units\":\"screen\",\"fill_alpha\":{\"value\":0.5},\"fill_color\":{\"value\":\"lightgrey\"},\"left_units\":\"screen\",\"level\":\"overlay\",\"line_alpha\":{\"value\":1.0},\"line_color\":{\"value\":\"black\"},\"line_dash\":[4,4],\"line_width\":{\"value\":2},\"plot\":null,\"render_mode\":\"css\",\"right_units\":\"screen\",\"top_units\":\"screen\"},\"id\":\"2098\",\"type\":\"BoxAnnotation\"},{\"attributes\":{\"line_color\":\"#fc4f30\",\"line_width\":2,\"x\":{\"field\":\"x\"},\"y\":{\"field\":\"y\"}},\"id\":\"2118\",\"type\":\"Line\"},{\"attributes\":{\"data_source\":{\"id\":\"2133\",\"type\":\"ColumnDataSource\"},\"glyph\":{\"id\":\"2136\",\"type\":\"Line\"},\"hover_glyph\":null,\"muted_glyph\":{\"id\":\"2138\",\"type\":\"Line\"},\"nonselection_glyph\":{\"id\":\"2137\",\"type\":\"Line\"},\"selection_glyph\":null,\"view\":{\"id\":\"2140\",\"type\":\"CDSView\"}},\"id\":\"2139\",\"type\":\"GlyphRenderer\"},{\"attributes\":{\"source\":{\"id\":\"2115\",\"type\":\"ColumnDataSource\"}},\"id\":\"2122\",\"type\":\"CDSView\"},{\"attributes\":{\"grid_line_color\":{\"value\":null},\"plot\":{\"id\":\"2072\",\"subtype\":\"Figure\",\"type\":\"Plot\"},\"ticker\":{\"id\":\"2081\",\"type\":\"BasicTicker\"}},\"id\":\"2084\",\"type\":\"Grid\"},{\"attributes\":{\"callback\":null,\"data\":{\"x\":[],\"y\":[]},\"selected\":{\"id\":\"2108\",\"type\":\"Selection\"},\"selection_policy\":{\"id\":\"2128\",\"type\":\"UnionRenderers\"}},\"id\":\"2107\",\"type\":\"ColumnDataSource\"},{\"attributes\":{\"axis_label\":\"x\",\"bounds\":\"auto\",\"formatter\":{\"id\":\"2104\",\"type\":\"BasicTickFormatter\"},\"major_label_orientation\":\"horizontal\",\"plot\":{\"id\":\"2072\",\"subtype\":\"Figure\",\"type\":\"Plot\"},\"ticker\":{\"id\":\"2081\",\"type\":\"BasicTicker\"}},\"id\":\"2080\",\"type\":\"LinearAxis\"},{\"attributes\":{\"line_alpha\":0.1,\"line_color\":\"#fc4f30\",\"line_width\":2,\"x\":{\"field\":\"x\"},\"y\":{\"field\":\"y\"}},\"id\":\"2119\",\"type\":\"Line\"},{\"attributes\":{\"callback\":null,\"reset_end\":1.0,\"reset_start\":0.0,\"tags\":[[[\"y\",\"y\",null]]]},\"id\":\"2070\",\"type\":\"Range1d\"},{\"attributes\":{\"axis_label\":\"y\",\"bounds\":\"auto\",\"formatter\":{\"id\":\"2106\",\"type\":\"BasicTickFormatter\"},\"major_label_orientation\":\"horizontal\",\"plot\":{\"id\":\"2072\",\"subtype\":\"Figure\",\"type\":\"Plot\"},\"ticker\":{\"id\":\"2086\",\"type\":\"BasicTicker\"}},\"id\":\"2085\",\"type\":\"LinearAxis\"},{\"attributes\":{},\"id\":\"2108\",\"type\":\"Selection\"},{\"attributes\":{},\"id\":\"2161\",\"type\":\"UnionRenderers\"},{\"attributes\":{},\"id\":\"2081\",\"type\":\"BasicTicker\"},{\"attributes\":{\"dimension\":1,\"grid_line_color\":{\"value\":null},\"plot\":{\"id\":\"2072\",\"subtype\":\"Figure\",\"type\":\"Plot\"},\"ticker\":{\"id\":\"2086\",\"type\":\"BasicTicker\"}},\"id\":\"2089\",\"type\":\"Grid\"},{\"attributes\":{\"click_policy\":\"mute\",\"items\":[{\"id\":\"2132\",\"type\":\"LegendItem\"},{\"id\":\"2151\",\"type\":\"LegendItem\"}],\"plot\":{\"id\":\"2072\",\"subtype\":\"Figure\",\"type\":\"Plot\"}},\"id\":\"2131\",\"type\":\"Legend\"},{\"attributes\":{\"label\":{\"value\":\"Face 1\"},\"renderers\":[{\"id\":\"2139\",\"type\":\"GlyphRenderer\"}]},\"id\":\"2151\",\"type\":\"LegendItem\"},{\"attributes\":{\"label\":{\"value\":\"Face 0\"},\"renderers\":[{\"id\":\"2121\",\"type\":\"GlyphRenderer\"}]},\"id\":\"2132\",\"type\":\"LegendItem\"},{\"attributes\":{},\"id\":\"2086\",\"type\":\"BasicTicker\"},{\"attributes\":{},\"id\":\"2076\",\"type\":\"LinearScale\"},{\"attributes\":{},\"id\":\"2092\",\"type\":\"WheelZoomTool\"},{\"attributes\":{},\"id\":\"2128\",\"type\":\"UnionRenderers\"},{\"attributes\":{\"callback\":null,\"data\":{\"x\":[0,1,0,0],\"y\":[0,0,1,0]},\"selected\":{\"id\":\"2116\",\"type\":\"Selection\"},\"selection_policy\":{\"id\":\"2148\",\"type\":\"UnionRenderers\"}},\"id\":\"2115\",\"type\":\"ColumnDataSource\"},{\"attributes\":{},\"id\":\"2116\",\"type\":\"Selection\"},{\"attributes\":{\"active_drag\":\"auto\",\"active_inspect\":\"auto\",\"active_multi\":null,\"active_scroll\":\"auto\",\"active_tap\":\"auto\",\"tools\":[{\"id\":\"2090\",\"type\":\"SaveTool\"},{\"id\":\"2091\",\"type\":\"PanTool\"},{\"id\":\"2092\",\"type\":\"WheelZoomTool\"},{\"id\":\"2093\",\"type\":\"BoxZoomTool\"},{\"id\":\"2094\",\"type\":\"ResetTool\"}]},\"id\":\"2095\",\"type\":\"Toolbar\"},{\"attributes\":{},\"id\":\"2090\",\"type\":\"SaveTool\"},{\"attributes\":{},\"id\":\"2134\",\"type\":\"Selection\"},{\"attributes\":{\"source\":{\"id\":\"2107\",\"type\":\"ColumnDataSource\"}},\"id\":\"2114\",\"type\":\"CDSView\"},{\"attributes\":{},\"id\":\"2106\",\"type\":\"BasicTickFormatter\"},{\"attributes\":{},\"id\":\"2094\",\"type\":\"ResetTool\"},{\"attributes\":{\"line_alpha\":0.2,\"line_color\":\"#fc4f30\",\"line_width\":2,\"x\":{\"field\":\"x\"},\"y\":{\"field\":\"y\"}},\"id\":\"2120\",\"type\":\"Line\"},{\"attributes\":{\"line_color\":\"#e5ae38\",\"line_width\":2,\"x\":{\"field\":\"x\"},\"y\":{\"field\":\"y\"}},\"id\":\"2136\",\"type\":\"Line\"},{\"attributes\":{},\"id\":\"2091\",\"type\":\"PanTool\"},{\"attributes\":{\"data_source\":{\"id\":\"2107\",\"type\":\"ColumnDataSource\"},\"glyph\":{\"id\":\"2110\",\"type\":\"Line\"},\"hover_glyph\":null,\"muted_glyph\":{\"id\":\"2112\",\"type\":\"Line\"},\"nonselection_glyph\":{\"id\":\"2111\",\"type\":\"Line\"},\"selection_glyph\":null,\"view\":{\"id\":\"2114\",\"type\":\"CDSView\"}},\"id\":\"2113\",\"type\":\"GlyphRenderer\"},{\"attributes\":{\"data_source\":{\"id\":\"2115\",\"type\":\"ColumnDataSource\"},\"glyph\":{\"id\":\"2118\",\"type\":\"Line\"},\"hover_glyph\":null,\"muted_glyph\":{\"id\":\"2120\",\"type\":\"Line\"},\"nonselection_glyph\":{\"id\":\"2119\",\"type\":\"Line\"},\"selection_glyph\":null,\"view\":{\"id\":\"2122\",\"type\":\"CDSView\"}},\"id\":\"2121\",\"type\":\"GlyphRenderer\"},{\"attributes\":{\"plot\":null,\"text\":\"\",\"text_color\":{\"value\":\"black\"},\"text_font_size\":{\"value\":\"12pt\"}},\"id\":\"2071\",\"type\":\"Title\"},{\"attributes\":{\"line_alpha\":0.2,\"line_color\":\"#e5ae38\",\"line_width\":2,\"x\":{\"field\":\"x\"},\"y\":{\"field\":\"y\"}},\"id\":\"2138\",\"type\":\"Line\"},{\"attributes\":{\"line_alpha\":0.1,\"line_color\":\"#30a2da\",\"line_width\":2,\"x\":{\"field\":\"x\"},\"y\":{\"field\":\"y\"}},\"id\":\"2111\",\"type\":\"Line\"},{\"attributes\":{\"line_alpha\":0.1,\"line_color\":\"#e5ae38\",\"line_width\":2,\"x\":{\"field\":\"x\"},\"y\":{\"field\":\"y\"}},\"id\":\"2137\",\"type\":\"Line\"},{\"attributes\":{\"line_alpha\":0.2,\"line_color\":\"#30a2da\",\"line_width\":2,\"x\":{\"field\":\"x\"},\"y\":{\"field\":\"y\"}},\"id\":\"2112\",\"type\":\"Line\"},{\"attributes\":{},\"id\":\"2104\",\"type\":\"BasicTickFormatter\"},{\"attributes\":{\"line_color\":\"#30a2da\",\"line_width\":2,\"x\":{\"field\":\"x\"},\"y\":{\"field\":\"y\"}},\"id\":\"2110\",\"type\":\"Line\"},{\"attributes\":{},\"id\":\"2148\",\"type\":\"UnionRenderers\"},{\"attributes\":{},\"id\":\"2078\",\"type\":\"LinearScale\"},{\"attributes\":{\"overlay\":{\"id\":\"2098\",\"type\":\"BoxAnnotation\"}},\"id\":\"2093\",\"type\":\"BoxZoomTool\"},{\"attributes\":{\"callback\":null,\"reset_end\":1.0,\"reset_start\":0.0,\"tags\":[[[\"x\",\"x\",null]]]},\"id\":\"2069\",\"type\":\"Range1d\"}],\"root_ids\":[\"2072\"]},\"title\":\"Bokeh Application\",\"version\":\"1.0.4\"}};\n",
       "  var render_items = [{\"docid\":\"6c40c8cb-f83f-4ba9-8e0b-f082a2e2289b\",\"roots\":{\"2072\":\"a8bd42fa-5021-453f-af64-f58c05e84339\"}}];\n",
       "  root.Bokeh.embed.embed_items_notebook(docs_json, render_items);\n",
       "\n",
       "  }\n",
       "  if (root.Bokeh !== undefined) {\n",
       "    embed_document(root);\n",
       "  } else {\n",
       "    var attempts = 0;\n",
       "    var timer = setInterval(function(root) {\n",
       "      if (root.Bokeh !== undefined) {\n",
       "        embed_document(root);\n",
       "        clearInterval(timer);\n",
       "      }\n",
       "      attempts++;\n",
       "      if (attempts > 100) {\n",
       "        console.log(\"Bokeh: ERROR: Unable to run BokehJS code because BokehJS library is missing\");\n",
       "        clearInterval(timer);\n",
       "      }\n",
       "    }, 10, root)\n",
       "  }\n",
       "})(window);"
      ],
      "application/vnd.holoviews_exec.v0+json": "",
      "text/html": [
       "<div id='2072' style='display: table; margin: 0 auto;'>\n",
       "\n",
       "\n",
       "\n",
       "\n",
       "\n",
       "  <div class=\"bk-root\" id=\"a8bd42fa-5021-453f-af64-f58c05e84339\" data-root-id=\"2072\"></div>\n",
       "</div>"
      ],
      "text/plain": [
       ":Overlay\n",
       "   .Curve.I      :Curve   [x]   (y)\n",
       "   .Curve.Face_0 :Curve   [x]   (y)\n",
       "   .Curve.Face_1 :Curve   [x]   (y)"
      ]
     },
     "execution_count": 4,
     "metadata": {
      "application/vnd.holoviews_exec.v0+json": {
       "id": "2072"
      }
     },
     "output_type": "execute_result"
    }
   ],
   "source": [
    "from winged_edge import *\n",
    "\n",
    "v = [\n",
    "    Vertex(0, [0, 0], 0),\n",
    "    Vertex(1, [1, 0], 1),\n",
    "    Vertex(2, [1, 1], 2),\n",
    "    Vertex(3, [0, 1], 3),\n",
    "]\n",
    "f = [Face(0, 0), Face(1, 1)]\n",
    "e = [\n",
    "    Edge(0, 0, 1, 0, None, 3, 4, None, None),\n",
    "    Edge(1, 1, 2, 1, None, 4, 2, None, None),\n",
    "    Edge(2, 2, 3, 1, None, 1, 4, None, None),\n",
    "    Edge(3, 3, 0, 0, None, 4, 0, None, None),\n",
    "    Edge(4, 3, 1, 1, 0, 2, 1, 0, 3),\n",
    "]\n",
    "\n",
    "we = WingedEdge(v, f, e)\n",
    "\n",
    "we.plot_faces()"
   ]
  },
  {
   "cell_type": "code",
   "execution_count": 3,
   "metadata": {},
   "outputs": [
    {
     "data": {
      "application/javascript": [
       "\n",
       "// Ugly hack - see HoloViews #2574 for more information\n",
       "if (!(document.getElementById('1716')) && !(document.getElementById('_anim_imgNone'))) {\n",
       "  console.log(\"Creating DOM nodes dynamically for assumed nbconvert export. To generate clean HTML output set HV_DOC_HTML as an environment variable.\")\n",
       "  var htmlObject = document.createElement('div');\n",
       "  htmlObject.innerHTML = `<div id='1716' style='display: table; margin: 0 auto;'>\n",
       "\n",
       "\n",
       "\n",
       "\n",
       "\n",
       "  <div class=\"bk-root\" id=\"c9cb0111-42b6-44b6-814b-e1f82746107f\" data-root-id=\"1716\"></div>\n",
       "</div>`;\n",
       "  var scriptTags = document.getElementsByTagName('script');\n",
       "  var parentTag = scriptTags[scriptTags.length-1].parentNode;\n",
       "  if (parentTag.attributes.length && (parentTag.attributes[0].name == 'data-shell-mode')) {\n",
       "    alert('Displaying PyViz objects in JupyterLab requires the jupyterlab_pyviz extension to be installed, install it with:\\n\\n\\tjupyter labextension install @pyviz/jupyterlab_pyviz');\n",
       "  } else {\n",
       "    parentTag.append(htmlObject)\n",
       "  }\n",
       "}\n",
       "(function(root) {\n",
       "  function embed_document(root) {\n",
       "    \n",
       "  var docs_json = {\"111da048-9868-48e4-9f82-0082676c1980\":{\"roots\":{\"references\":[{\"attributes\":{\"below\":[{\"id\":\"1724\",\"type\":\"LinearAxis\"}],\"left\":[{\"id\":\"1729\",\"type\":\"LinearAxis\"}],\"min_border_bottom\":10,\"min_border_left\":10,\"min_border_right\":10,\"min_border_top\":10,\"plot_height\":300,\"plot_width\":300,\"renderers\":[{\"id\":\"1724\",\"type\":\"LinearAxis\"},{\"id\":\"1728\",\"type\":\"Grid\"},{\"id\":\"1729\",\"type\":\"LinearAxis\"},{\"id\":\"1733\",\"type\":\"Grid\"},{\"id\":\"1742\",\"type\":\"BoxAnnotation\"},{\"id\":\"1757\",\"type\":\"GlyphRenderer\"},{\"id\":\"1765\",\"type\":\"GlyphRenderer\"},{\"id\":\"1773\",\"type\":\"GlyphRenderer\"},{\"id\":\"1781\",\"type\":\"GlyphRenderer\"},{\"id\":\"1789\",\"type\":\"GlyphRenderer\"},{\"id\":\"1797\",\"type\":\"GlyphRenderer\"}],\"title\":{\"id\":\"1715\",\"type\":\"Title\"},\"toolbar\":{\"id\":\"1739\",\"type\":\"Toolbar\"},\"x_range\":{\"id\":\"1713\",\"type\":\"Range1d\"},\"x_scale\":{\"id\":\"1720\",\"type\":\"LinearScale\"},\"y_range\":{\"id\":\"1714\",\"type\":\"Range1d\"},\"y_scale\":{\"id\":\"1722\",\"type\":\"LinearScale\"}},\"id\":\"1716\",\"subtype\":\"Figure\",\"type\":\"Plot\"},{\"attributes\":{\"line_alpha\":0.1,\"line_color\":\"#30a2da\",\"line_width\":2,\"x\":{\"field\":\"x\"},\"y\":{\"field\":\"y\"}},\"id\":\"1755\",\"type\":\"Line\"},{\"attributes\":{\"line_width\":2,\"x\":{\"field\":\"x\"},\"y\":{\"field\":\"y\"}},\"id\":\"1762\",\"type\":\"Line\"},{\"attributes\":{\"source\":{\"id\":\"1775\",\"type\":\"ColumnDataSource\"}},\"id\":\"1782\",\"type\":\"CDSView\"},{\"attributes\":{\"line_alpha\":0.2,\"line_color\":\"#30a2da\",\"line_width\":2,\"x\":{\"field\":\"x\"},\"y\":{\"field\":\"y\"}},\"id\":\"1756\",\"type\":\"Line\"},{\"attributes\":{},\"id\":\"1760\",\"type\":\"Selection\"},{\"attributes\":{\"callback\":null,\"data\":{\"x\":[1,1],\"y\":[0,1]},\"selected\":{\"id\":\"1768\",\"type\":\"Selection\"},\"selection_policy\":{\"id\":\"1808\",\"type\":\"UnionRenderers\"}},\"id\":\"1767\",\"type\":\"ColumnDataSource\"},{\"attributes\":{\"line_width\":2,\"x\":{\"field\":\"x\"},\"y\":{\"field\":\"y\"}},\"id\":\"1794\",\"type\":\"Line\"},{\"attributes\":{\"data_source\":{\"id\":\"1759\",\"type\":\"ColumnDataSource\"},\"glyph\":{\"id\":\"1762\",\"type\":\"Line\"},\"hover_glyph\":null,\"muted_glyph\":{\"id\":\"1764\",\"type\":\"Line\"},\"nonselection_glyph\":{\"id\":\"1763\",\"type\":\"Line\"},\"selection_glyph\":null,\"view\":{\"id\":\"1766\",\"type\":\"CDSView\"}},\"id\":\"1765\",\"type\":\"GlyphRenderer\"},{\"attributes\":{},\"id\":\"1804\",\"type\":\"UnionRenderers\"},{\"attributes\":{\"line_width\":2,\"x\":{\"field\":\"x\"},\"y\":{\"field\":\"y\"}},\"id\":\"1786\",\"type\":\"Line\"},{\"attributes\":{},\"id\":\"1806\",\"type\":\"UnionRenderers\"},{\"attributes\":{},\"id\":\"1752\",\"type\":\"Selection\"},{\"attributes\":{},\"id\":\"1776\",\"type\":\"Selection\"},{\"attributes\":{},\"id\":\"1730\",\"type\":\"BasicTicker\"},{\"attributes\":{},\"id\":\"1768\",\"type\":\"Selection\"},{\"attributes\":{\"dimension\":1,\"grid_line_color\":{\"value\":null},\"plot\":{\"id\":\"1716\",\"subtype\":\"Figure\",\"type\":\"Plot\"},\"ticker\":{\"id\":\"1730\",\"type\":\"BasicTicker\"}},\"id\":\"1733\",\"type\":\"Grid\"},{\"attributes\":{\"axis_label\":\"y\",\"bounds\":\"auto\",\"formatter\":{\"id\":\"1750\",\"type\":\"BasicTickFormatter\"},\"major_label_orientation\":\"horizontal\",\"plot\":{\"id\":\"1716\",\"subtype\":\"Figure\",\"type\":\"Plot\"},\"ticker\":{\"id\":\"1730\",\"type\":\"BasicTicker\"}},\"id\":\"1729\",\"type\":\"LinearAxis\"},{\"attributes\":{\"source\":{\"id\":\"1783\",\"type\":\"ColumnDataSource\"}},\"id\":\"1790\",\"type\":\"CDSView\"},{\"attributes\":{\"callback\":null,\"data\":{\"x\":[0,0],\"y\":[1,0]},\"selected\":{\"id\":\"1784\",\"type\":\"Selection\"},\"selection_policy\":{\"id\":\"1812\",\"type\":\"UnionRenderers\"}},\"id\":\"1783\",\"type\":\"ColumnDataSource\"},{\"attributes\":{},\"id\":\"1734\",\"type\":\"SaveTool\"},{\"attributes\":{},\"id\":\"1814\",\"type\":\"UnionRenderers\"},{\"attributes\":{\"active_drag\":\"auto\",\"active_inspect\":\"auto\",\"active_multi\":null,\"active_scroll\":\"auto\",\"active_tap\":\"auto\",\"tools\":[{\"id\":\"1734\",\"type\":\"SaveTool\"},{\"id\":\"1735\",\"type\":\"PanTool\"},{\"id\":\"1736\",\"type\":\"WheelZoomTool\"},{\"id\":\"1737\",\"type\":\"BoxZoomTool\"},{\"id\":\"1738\",\"type\":\"ResetTool\"}]},\"id\":\"1739\",\"type\":\"Toolbar\"},{\"attributes\":{\"line_alpha\":0.2,\"line_color\":\"black\",\"line_width\":2,\"x\":{\"field\":\"x\"},\"y\":{\"field\":\"y\"}},\"id\":\"1788\",\"type\":\"Line\"},{\"attributes\":{},\"id\":\"1812\",\"type\":\"UnionRenderers\"},{\"attributes\":{\"data_source\":{\"id\":\"1783\",\"type\":\"ColumnDataSource\"},\"glyph\":{\"id\":\"1786\",\"type\":\"Line\"},\"hover_glyph\":null,\"muted_glyph\":{\"id\":\"1788\",\"type\":\"Line\"},\"nonselection_glyph\":{\"id\":\"1787\",\"type\":\"Line\"},\"selection_glyph\":null,\"view\":{\"id\":\"1790\",\"type\":\"CDSView\"}},\"id\":\"1789\",\"type\":\"GlyphRenderer\"},{\"attributes\":{},\"id\":\"1750\",\"type\":\"BasicTickFormatter\"},{\"attributes\":{\"grid_line_color\":{\"value\":null},\"plot\":{\"id\":\"1716\",\"subtype\":\"Figure\",\"type\":\"Plot\"},\"ticker\":{\"id\":\"1725\",\"type\":\"BasicTicker\"}},\"id\":\"1728\",\"type\":\"Grid\"},{\"attributes\":{\"callback\":null,\"data\":{\"x\":[],\"y\":[]},\"selected\":{\"id\":\"1752\",\"type\":\"Selection\"},\"selection_policy\":{\"id\":\"1804\",\"type\":\"UnionRenderers\"}},\"id\":\"1751\",\"type\":\"ColumnDataSource\"},{\"attributes\":{},\"id\":\"1725\",\"type\":\"BasicTicker\"},{\"attributes\":{},\"id\":\"1810\",\"type\":\"UnionRenderers\"},{\"attributes\":{},\"id\":\"1808\",\"type\":\"UnionRenderers\"},{\"attributes\":{\"line_alpha\":0.2,\"line_color\":\"black\",\"line_width\":2,\"x\":{\"field\":\"x\"},\"y\":{\"field\":\"y\"}},\"id\":\"1780\",\"type\":\"Line\"},{\"attributes\":{},\"id\":\"1735\",\"type\":\"PanTool\"},{\"attributes\":{\"data_source\":{\"id\":\"1775\",\"type\":\"ColumnDataSource\"},\"glyph\":{\"id\":\"1778\",\"type\":\"Line\"},\"hover_glyph\":null,\"muted_glyph\":{\"id\":\"1780\",\"type\":\"Line\"},\"nonselection_glyph\":{\"id\":\"1779\",\"type\":\"Line\"},\"selection_glyph\":null,\"view\":{\"id\":\"1782\",\"type\":\"CDSView\"}},\"id\":\"1781\",\"type\":\"GlyphRenderer\"},{\"attributes\":{\"axis_label\":\"x\",\"bounds\":\"auto\",\"formatter\":{\"id\":\"1748\",\"type\":\"BasicTickFormatter\"},\"major_label_orientation\":\"horizontal\",\"plot\":{\"id\":\"1716\",\"subtype\":\"Figure\",\"type\":\"Plot\"},\"ticker\":{\"id\":\"1725\",\"type\":\"BasicTicker\"}},\"id\":\"1724\",\"type\":\"LinearAxis\"},{\"attributes\":{\"data_source\":{\"id\":\"1751\",\"type\":\"ColumnDataSource\"},\"glyph\":{\"id\":\"1754\",\"type\":\"Line\"},\"hover_glyph\":null,\"muted_glyph\":{\"id\":\"1756\",\"type\":\"Line\"},\"nonselection_glyph\":{\"id\":\"1755\",\"type\":\"Line\"},\"selection_glyph\":null,\"view\":{\"id\":\"1758\",\"type\":\"CDSView\"}},\"id\":\"1757\",\"type\":\"GlyphRenderer\"},{\"attributes\":{},\"id\":\"1722\",\"type\":\"LinearScale\"},{\"attributes\":{\"overlay\":{\"id\":\"1742\",\"type\":\"BoxAnnotation\"}},\"id\":\"1737\",\"type\":\"BoxZoomTool\"},{\"attributes\":{},\"id\":\"1792\",\"type\":\"Selection\"},{\"attributes\":{},\"id\":\"1736\",\"type\":\"WheelZoomTool\"},{\"attributes\":{\"line_color\":\"#30a2da\",\"line_width\":2,\"x\":{\"field\":\"x\"},\"y\":{\"field\":\"y\"}},\"id\":\"1754\",\"type\":\"Line\"},{\"attributes\":{},\"id\":\"1720\",\"type\":\"LinearScale\"},{\"attributes\":{\"bottom_units\":\"screen\",\"fill_alpha\":{\"value\":0.5},\"fill_color\":{\"value\":\"lightgrey\"},\"left_units\":\"screen\",\"level\":\"overlay\",\"line_alpha\":{\"value\":1.0},\"line_color\":{\"value\":\"black\"},\"line_dash\":[4,4],\"line_width\":{\"value\":2},\"plot\":null,\"render_mode\":\"css\",\"right_units\":\"screen\",\"top_units\":\"screen\"},\"id\":\"1742\",\"type\":\"BoxAnnotation\"},{\"attributes\":{\"source\":{\"id\":\"1791\",\"type\":\"ColumnDataSource\"}},\"id\":\"1798\",\"type\":\"CDSView\"},{\"attributes\":{},\"id\":\"1738\",\"type\":\"ResetTool\"},{\"attributes\":{\"source\":{\"id\":\"1751\",\"type\":\"ColumnDataSource\"}},\"id\":\"1758\",\"type\":\"CDSView\"},{\"attributes\":{\"line_alpha\":0.1,\"line_color\":\"black\",\"line_width\":2,\"x\":{\"field\":\"x\"},\"y\":{\"field\":\"y\"}},\"id\":\"1771\",\"type\":\"Line\"},{\"attributes\":{},\"id\":\"1784\",\"type\":\"Selection\"},{\"attributes\":{\"callback\":null,\"data\":{\"x\":[0,1],\"y\":[0,0]},\"selected\":{\"id\":\"1760\",\"type\":\"Selection\"},\"selection_policy\":{\"id\":\"1806\",\"type\":\"UnionRenderers\"}},\"id\":\"1759\",\"type\":\"ColumnDataSource\"},{\"attributes\":{\"data_source\":{\"id\":\"1767\",\"type\":\"ColumnDataSource\"},\"glyph\":{\"id\":\"1770\",\"type\":\"Line\"},\"hover_glyph\":null,\"muted_glyph\":{\"id\":\"1772\",\"type\":\"Line\"},\"nonselection_glyph\":{\"id\":\"1771\",\"type\":\"Line\"},\"selection_glyph\":null,\"view\":{\"id\":\"1774\",\"type\":\"CDSView\"}},\"id\":\"1773\",\"type\":\"GlyphRenderer\"},{\"attributes\":{\"line_alpha\":0.1,\"line_color\":\"black\",\"line_width\":2,\"x\":{\"field\":\"x\"},\"y\":{\"field\":\"y\"}},\"id\":\"1763\",\"type\":\"Line\"},{\"attributes\":{\"plot\":null,\"text\":\"\",\"text_color\":{\"value\":\"black\"},\"text_font_size\":{\"value\":\"12pt\"}},\"id\":\"1715\",\"type\":\"Title\"},{\"attributes\":{\"line_alpha\":0.2,\"line_color\":\"black\",\"line_width\":2,\"x\":{\"field\":\"x\"},\"y\":{\"field\":\"y\"}},\"id\":\"1772\",\"type\":\"Line\"},{\"attributes\":{\"callback\":null,\"data\":{\"x\":[1,0],\"y\":[1,1]},\"selected\":{\"id\":\"1776\",\"type\":\"Selection\"},\"selection_policy\":{\"id\":\"1810\",\"type\":\"UnionRenderers\"}},\"id\":\"1775\",\"type\":\"ColumnDataSource\"},{\"attributes\":{\"line_alpha\":0.1,\"line_color\":\"black\",\"line_width\":2,\"x\":{\"field\":\"x\"},\"y\":{\"field\":\"y\"}},\"id\":\"1787\",\"type\":\"Line\"},{\"attributes\":{\"source\":{\"id\":\"1767\",\"type\":\"ColumnDataSource\"}},\"id\":\"1774\",\"type\":\"CDSView\"},{\"attributes\":{},\"id\":\"1748\",\"type\":\"BasicTickFormatter\"},{\"attributes\":{\"line_alpha\":0.1,\"line_color\":\"black\",\"line_width\":2,\"x\":{\"field\":\"x\"},\"y\":{\"field\":\"y\"}},\"id\":\"1779\",\"type\":\"Line\"},{\"attributes\":{\"callback\":null,\"data\":{\"x\":[0,1],\"y\":[1,0]},\"selected\":{\"id\":\"1792\",\"type\":\"Selection\"},\"selection_policy\":{\"id\":\"1814\",\"type\":\"UnionRenderers\"}},\"id\":\"1791\",\"type\":\"ColumnDataSource\"},{\"attributes\":{\"source\":{\"id\":\"1759\",\"type\":\"ColumnDataSource\"}},\"id\":\"1766\",\"type\":\"CDSView\"},{\"attributes\":{\"callback\":null,\"reset_end\":1.0,\"reset_start\":0.0,\"tags\":[[[\"x\",\"x\",null]]]},\"id\":\"1713\",\"type\":\"Range1d\"},{\"attributes\":{\"line_alpha\":0.2,\"line_color\":\"black\",\"line_width\":2,\"x\":{\"field\":\"x\"},\"y\":{\"field\":\"y\"}},\"id\":\"1796\",\"type\":\"Line\"},{\"attributes\":{\"data_source\":{\"id\":\"1791\",\"type\":\"ColumnDataSource\"},\"glyph\":{\"id\":\"1794\",\"type\":\"Line\"},\"hover_glyph\":null,\"muted_glyph\":{\"id\":\"1796\",\"type\":\"Line\"},\"nonselection_glyph\":{\"id\":\"1795\",\"type\":\"Line\"},\"selection_glyph\":null,\"view\":{\"id\":\"1798\",\"type\":\"CDSView\"}},\"id\":\"1797\",\"type\":\"GlyphRenderer\"},{\"attributes\":{\"line_width\":2,\"x\":{\"field\":\"x\"},\"y\":{\"field\":\"y\"}},\"id\":\"1770\",\"type\":\"Line\"},{\"attributes\":{\"line_width\":2,\"x\":{\"field\":\"x\"},\"y\":{\"field\":\"y\"}},\"id\":\"1778\",\"type\":\"Line\"},{\"attributes\":{\"line_alpha\":0.2,\"line_color\":\"black\",\"line_width\":2,\"x\":{\"field\":\"x\"},\"y\":{\"field\":\"y\"}},\"id\":\"1764\",\"type\":\"Line\"},{\"attributes\":{\"callback\":null,\"reset_end\":1.0,\"reset_start\":0.0,\"tags\":[[[\"y\",\"y\",null]]]},\"id\":\"1714\",\"type\":\"Range1d\"},{\"attributes\":{\"line_alpha\":0.1,\"line_color\":\"black\",\"line_width\":2,\"x\":{\"field\":\"x\"},\"y\":{\"field\":\"y\"}},\"id\":\"1795\",\"type\":\"Line\"}],\"root_ids\":[\"1716\"]},\"title\":\"Bokeh Application\",\"version\":\"1.0.4\"}};\n",
       "  var render_items = [{\"docid\":\"111da048-9868-48e4-9f82-0082676c1980\",\"roots\":{\"1716\":\"c9cb0111-42b6-44b6-814b-e1f82746107f\"}}];\n",
       "  root.Bokeh.embed.embed_items_notebook(docs_json, render_items);\n",
       "\n",
       "  }\n",
       "  if (root.Bokeh !== undefined) {\n",
       "    embed_document(root);\n",
       "  } else {\n",
       "    var attempts = 0;\n",
       "    var timer = setInterval(function(root) {\n",
       "      if (root.Bokeh !== undefined) {\n",
       "        embed_document(root);\n",
       "        clearInterval(timer);\n",
       "      }\n",
       "      attempts++;\n",
       "      if (attempts > 100) {\n",
       "        console.log(\"Bokeh: ERROR: Unable to run BokehJS code because BokehJS library is missing\");\n",
       "        clearInterval(timer);\n",
       "      }\n",
       "    }, 10, root)\n",
       "  }\n",
       "})(window);"
      ],
      "application/vnd.holoviews_exec.v0+json": "",
      "text/html": [
       "<div id='1716' style='display: table; margin: 0 auto;'>\n",
       "\n",
       "\n",
       "\n",
       "\n",
       "\n",
       "  <div class=\"bk-root\" id=\"c9cb0111-42b6-44b6-814b-e1f82746107f\" data-root-id=\"1716\"></div>\n",
       "</div>"
      ],
      "text/plain": [
       ":Overlay\n",
       "   .Curve.I   :Curve   [x]   (y)\n",
       "   .Curve.II  :Curve   [x]   (y)\n",
       "   .Curve.III :Curve   [x]   (y)\n",
       "   .Curve.IV  :Curve   [x]   (y)\n",
       "   .Curve.V   :Curve   [x]   (y)\n",
       "   .Curve.VI  :Curve   [x]   (y)"
      ]
     },
     "execution_count": 3,
     "metadata": {
      "application/vnd.holoviews_exec.v0+json": {
       "id": "1716"
      }
     },
     "output_type": "execute_result"
    }
   ],
   "source": [
    "we.plot_edges()"
   ]
  }
 ],
 "metadata": {
  "kernelspec": {
   "display_name": "Python 3",
   "language": "python",
   "name": "python3"
  },
  "language_info": {
   "codemirror_mode": {
    "name": "ipython",
    "version": 3
   },
   "file_extension": ".py",
   "mimetype": "text/x-python",
   "name": "python",
   "nbconvert_exporter": "python",
   "pygments_lexer": "ipython3",
   "version": "3.7.2"
  }
 },
 "nbformat": 4,
 "nbformat_minor": 2
}
