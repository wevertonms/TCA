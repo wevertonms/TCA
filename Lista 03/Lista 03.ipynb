{
 "cells": [
  {
   "cell_type": "markdown",
   "metadata": {},
   "source": [
    "Universidade Federal de Alagoas – UFAL\n",
    "\n",
    "Centro de Tecnologia – CTEC\n",
    "\n",
    "Programa de Pós-Graduação em Engenharia Civil –  PPGEC\n",
    "\n",
    "Cidade Universitária – Campus A. C. Simões \n",
    "\n",
    "Tabuleiro do Martins – CEP 57072-970 – Maceió –  Alagoas\n",
    "\n",
    "Telefone: (82) 3214.1276 – Fax: (82)3214.1276 \n",
    "\n",
    "Site: http://www.ctec.ufal.br/posgraduacao/ppgec/ \n",
    "\n",
    "\n",
    "# Técnicas Computacionais Avançadas - 2018\n",
    "\n",
    "### Prof. William Wagner Matos Lira\n",
    "\n",
    "### Aluno: Weverton Marques da Silva"
   ]
  },
  {
   "cell_type": "markdown",
   "metadata": {},
   "source": [
    "# 3ª Lista de Exercícios (para 09/10/2018)"
   ]
  },
  {
   "cell_type": "markdown",
   "metadata": {},
   "source": [
    "#### 1. Seja $P = p_1 p_2...p_n$ um polígono simples, orientado no sentido anti-horário. Suponha que o ângulo orientado de $p_{i–1}p_i$ para $p_ip_{i+1}$ é negativo. Mostre que $p_i$ não é vértice de $conv(P)$.  A recíproca é verdadeira?\n",
    "> Se $conv(P)$ é convexo se, e somente se, todos os anĝnulo externos são **maiores** que 180°, em outras palavras: são positivos quando medido no sentido sentido anti-horário. Logo, os angulo externos de $P$ - como é o caso do ângulo orientado de $p_{i–1}p_i$ para $p_ip_{i+1}$ - são positivos. Dessa forma, $p_i$ não pode ser vértice de $conv(P)$. Por outro lado, a recíproca não é verdadeira sempre, vejamos na figura a seguir, onde temos o caso de um polígno simples, orientado no sentido anti-horário em $p_1$ não évérice de $conv(P)$ mas o ângulo orientado de $p_{i–1}p_i$ para $p_ip_{i+1}$ é positivo.\n",
    "> ![](questao_1.png)"
   ]
  },
  {
   "cell_type": "markdown",
   "metadata": {},
   "source": [
    "#### 2.\n",
    "\n",
    "##### a) Mostre que o fecho convexo de um conjunto de pontos do plano é o polígono simples de maior área que contém o conjunto.\n",
    "\n",
    "> Seja $P' = p_1p_2...p_ip_jp_k..p_n$ um polígono formado pelos pontos do fecho convexo de um conjunto de pontos $P$ com adição de mais um ponto, denotado por $p_j$ que pertença ao conjunto mas não ao fecho convexo. Uma vez que $p_j$ não é parte do fecho convexo, ele está dentro do fecho convexo, dessa forma o triângulo formado por $p_i$,$p_j$ e $p_k$ está contido no fecho convexo do conjunto, dessa forma a área de $P'$ é menor que a área do fecho convexo. Dessa forma, é impossível tomar um ponto do conjunto $P$ que não pertença a $conv(P)$ e obter um polígono de área maior que $P$. Conclusão: $conv(P)$ é o maior polígono que contém o conjunto de pontos.\n",
    "\n",
    "##### b) Mostre que o fecho convexo de um conjunto de pontos do plano é o polígono simples de menor perímetro que contém o conjunto.\n",
    "\n",
    "> Seja $P' = p_1p_2...p_ip_jp_k...p_n$ um polígono formado pelos pontos do fecho convexo de um conjunto de pontos $P$ com adição de mais um ponto, denotado por $p_j$ que pertença ao conjunto mas não ao fecho convexo. Uma vez que $p_j$ não é parte do fecho convexo, ele está dentro do fecho convexo, e para o triângulo formado por $p_i$,$p_j$ e $p_k$ vale a relação $\\overline{p_ip_k} \\le \\overline{p_ip_j} + \\overline{p_jp_k}$. Dessa forma, é impossível tomar um ponto do conjunto $P$ que não pertença a $conv(P)$ e obter um polígono de menor perímetro que $P$. Conclusão: $conv(P)$ é o polígono é de menor diâmetro que contém o conjunto de pontos."
   ]
  },
  {
   "cell_type": "markdown",
   "metadata": {},
   "source": [
    "#### 3. Sejam $p_1$, $p_2$, ..., $p_n$ pontos do plano. Descreva um algoritmo linear que, determina se $p_1$ é um vértice do fecho convexo de ${p_1, p_2, ..., p_n}$. [Sugestão: $p_1$ é vértice de $conv\\{p_1, p_2, ..., p_n\\}$ se e só se existe uma reta $r$ contendo $p_1$ tal que $p_2, ..., p_n$ estejam no mesmo semiplano determinado por $r$.]"
   ]
  },
  {
   "cell_type": "markdown",
   "metadata": {},
   "source": [
    "```\n",
    "Seja angulo(v) uma função que retorne o angulo de vetor v com a horizontal.\n",
    "Seja anguloV(v1, v2) uma função que retorne o angulo entre os vetores v1 e v2, \n",
    "que pode ser dada por\n",
    "    anguloV(v1, v2) = angulo(v1)-angulo(v2)\n",
    "\n",
    "menor1 = angulo(P[2]-P[1])\n",
    "i = 2\n",
    "Para i = 3..n\n",
    "    Se angulo(P[i]-P[1]) < menor, então\n",
    "        menor = angulo(P[i]-P[1])\n",
    "        menor_i = i\n",
    "menor2 = angulo(P[2],P[menor_i])\n",
    "Para i = 2..n\n",
    "    Se angulo(P[i]-P[menor_i]) < menor, então\n",
    "        menor = angulo(P[i]-P[menor_i])\n",
    "Se menor <= 180°, então\n",
    "    P[1] PERTENCE AO FECHO CONVEXO\n",
    "Se não, então\n",
    "    P[1] NÃO PERTENCE AO FECHO CONVEXO\n",
    "```"
   ]
  },
  {
   "cell_type": "markdown",
   "metadata": {},
   "source": [
    "#### 4. Considere a estrutura *winged-edge* apresentada.\n",
    "\n",
    "##### a) Escreva um algoritmo que, dada uma face $F$, obtém seus vértices em tempo linear.\n",
    "\n",
    "```\n",
    "Seja F a face dada, e seja A a aresta associada a ela\n",
    "proxima_Aresta <- A\n",
    "Faça:\n",
    "    Se F é a fccw de proxima_Aresta, então\n",
    "        Adicione v1 a lista de vértice de F\n",
    "        proxima_Aresta <- nccw de proxima_Aresta\n",
    "    Se não, então\n",
    "        Adicione v2 a lista de vértice de F\n",
    "        proxima_Aresta <- ncw de proxima_Aresta\n",
    "Até que proxima_Aresta == A\n",
    "```\n",
    "\n",
    "##### b) Escreva um algoritmo que, dado um vértice $v$, obtém todos os vértices adjacentes a $v$ em tempo linear.\n",
    "\n",
    "```\n",
    "Seja A a aresta associada ao vertice V\n",
    "proxima_aresta <- A\n",
    "Faça\n",
    "    Se V == v1 de proxima_Aresta, então\n",
    "        Adicione V2 a lista de vértices adjacentes a V\n",
    "        Se houver (pccw de proxima_Aresta), então:\n",
    "            proxima_aresta <- pccw de proxima_Aresta\n",
    "        Senão, então\n",
    "            Saia do loop\n",
    "    Se não, então\n",
    "        Adicione V2 a lista de vértices adjacentes a V\n",
    "        Se houver (pcw de proxima_Aresta), então:\n",
    "            proxima_aresta <- pcw de proxima_Aresta\n",
    "        Senão, então\n",
    "            Saia do loop\n",
    "Até que proxima_Aresta == A\n",
    "```"
   ]
  },
  {
   "cell_type": "markdown",
   "metadata": {},
   "source": [
    "#### 5. Implemente o algoritmo de Jarvis para *FC2D*."
   ]
  },
  {
   "cell_type": "code",
   "execution_count": 4,
   "metadata": {},
   "outputs": [],
   "source": [
    "def pseudoAngle(v1, v2):\n",
    "    \"\"\"Rerorna um pseudo-angle entre dois vetores v1 e v2\n",
    "    \"\"\"\n",
    "    angle = 0\n",
    "    n = 0\n",
    "    for [x, y] in [v1, v2]:\n",
    "        if (x > 0):\n",
    "            if (y > 0):  # Primeiro quadrante\n",
    "                if (x > y):\n",
    "                    angleH = y / x  # angulo formado com a horizontal\n",
    "                else:\n",
    "                    angleH = 2 - x / y  # angulo formado com a horizontal\n",
    "            else:  # Quarto quadrante\n",
    "                if (x > -y):\n",
    "                    angleH = 8 + y / x  # angulo formado com a horizontal\n",
    "                else:\n",
    "                    angleH = 6 - x / y  # angulo formado com a horizontal\n",
    "        else:\n",
    "            if (y > 0):  # Segundo quadrante\n",
    "                if (-x > y):\n",
    "                    angleH = 4 + y / x  # angulo formado com a horizontal\n",
    "                else:\n",
    "                    angleH = 2 - x / y  # angulo formado com a horizontal\n",
    "            else:  # Terceiro quadrante\n",
    "                if (x > y):\n",
    "                    angleH = 6 - x / y  # angulo formado com a horizontal\n",
    "                else:\n",
    "                    angleH = 4 + y / x  # angulo formado com a horizontal\n",
    "        angle = angle + ((-1)**n)*angleH\n",
    "        n = n + 1\n",
    "    return angle % 8\n",
    "\n",
    "\n",
    "def nextPoint(p, i, direction):\n",
    "    \"\"\"Retorna o ID do próximo ponto do fecho convex do conunto p\n",
    "    \"\"\"\n",
    "    lower = 8\n",
    "    for j in range(0, len(p)):\n",
    "        if j != i:\n",
    "            angle = pseudoAngle([p[j][0]-p[i][0], p[j][1]-p[i][1]], direction)\n",
    "            if (angle < lower):\n",
    "                lower = angle\n",
    "                index = j\n",
    "    return index\n",
    "\n",
    "def ordenate(point):\n",
    "    \"\"\"Retorna orenada do ponto\n",
    "    \"\"\"\n",
    "    return point[1]\n",
    "\n",
    "def jarvis_FC2D(p):\n",
    "    \"\"\"Determina o fecho convexo pelo algoritmo de Jarvis\n",
    "    \"\"\"\n",
    "    chp = []  # Conjunto de pontos do fecho convexo\n",
    "    chp.append(min(p, key=ordenate))  # Encontra o ponto de menor ordenada\n",
    "    nextCHP = nextPoint(p, p.index(chp[0]), [1., 0.])\n",
    "    chp.append(p[nextCHP])  # Adiciona o ponto ao fecho convexo\n",
    "    i = 1\n",
    "    while (chp[i] != chp[0]):\n",
    "        direction = [chp[i][0]-chp[i-1][0], chp[i][1]-chp[i-1][1]]\n",
    "        nextCHP = nextPoint(p, nextCHP, direction)\n",
    "        chp.append(p[nextCHP])\n",
    "        i = i + 1\n",
    "    return chp"
   ]
  }
 ],
 "metadata": {
  "celltoolbar": "Raw Cell Format",
  "kernelspec": {
   "display_name": "Python 3",
   "language": "python",
   "name": "python3"
  },
  "language_info": {
   "codemirror_mode": {
    "name": "ipython",
    "version": 3
   },
   "file_extension": ".py",
   "mimetype": "text/x-python",
   "name": "python",
   "nbconvert_exporter": "python",
   "pygments_lexer": "ipython3",
   "version": "3.7.1"
  }
 },
 "nbformat": 4,
 "nbformat_minor": 2
}
